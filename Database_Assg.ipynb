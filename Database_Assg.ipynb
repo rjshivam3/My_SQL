{
 "cells": [
  {
   "cell_type": "code",
   "execution_count": 2,
   "id": "8318efbb-b4a8-4081-8788-186e71a280e7",
   "metadata": {},
   "outputs": [
    {
     "data": {
      "text/plain": [
       "'\\n\\nSQL Databases: Organize data into tables with rows and columns, using structured query language (SQL) for manipulation. Good for complex queries and strong consistency.\\n  \\nNoSQL Databases: Store and retrieve data in various formats, such as key-value pairs or document-oriented structures. Suited for handling large volumes of unstructured data, with high scalability and flexibility.'"
      ]
     },
     "execution_count": 2,
     "metadata": {},
     "output_type": "execute_result"
    }
   ],
   "source": [
    "#Q1. What is a database? Differentiate between SQL and NoSQL databases.\n",
    "\n",
    "\"\"\"\n",
    "\n",
    "SQL Databases: Organize data into tables with rows and columns, using structured query language (SQL) for manipulation. Good for complex queries and strong consistency.\n",
    "  \n",
    "NoSQL Databases: Store and retrieve data in various formats, such as key-value pairs or document-oriented structures. Suited for handling large volumes of unstructured data, with high scalability and flexibility.\"\"\""
   ]
  },
  {
   "cell_type": "code",
   "execution_count": null,
   "id": "0e92433d-e71a-40b0-838e-b1c2f3dc1a2e",
   "metadata": {},
   "outputs": [],
   "source": [
    "#Q2. What is DDL? Explain why CREATE, DROP, ALTER, and TRUNCATE are used with an example.\n",
    "\n",
    "#CREATE\n",
    "CREATE TABLE Employees (\n",
    "    EmployeeID INT PRIMARY KEY,\n",
    "    Name VARCHAR(50),\n",
    "    Department VARCHAR(50)\n",
    ");\n",
    "\n",
    "#DROP\n",
    "DROP TABLE Name;\n",
    "\n",
    "#ALTER\n",
    "ALTER TABLE Employees\n",
    "ADD Salary DECIMAL(12, 2);\n",
    "\n",
    "#TRUNCATE\n",
    "TRUNCATE TABLE Employees;"
   ]
  },
  {
   "cell_type": "code",
   "execution_count": null,
   "id": "dca2a6a2-8452-4731-90ee-7acd6f4ca763",
   "metadata": {},
   "outputs": [],
   "source": [
    "#Q3. What is DML? Explain INSERT, UPDATE, and DELETE with an example.\n",
    "\n",
    "#INSERT\n",
    "INSERT INTO Products (ProductID, Name, Price, Category)\n",
    "VALUES (101, 'Laptop', 1200.00, 'Electronics');\n",
    "\n",
    "#UPDATE\n",
    "UPDATE Products\n",
    "SET Price = 1300.00\n",
    "WHERE ProductID = 101;\n",
    "\n",
    "#DELETE\n",
    "DELETE FROM Products\n",
    "WHERE Discontinued = 1;\n"
   ]
  },
  {
   "cell_type": "code",
   "execution_count": null,
   "id": "d224d82d-9d32-4689-9fb5-7f804ad2be36",
   "metadata": {},
   "outputs": [],
   "source": [
    "#Q4. What is DQL? Explain SELECT with an example.\n",
    "\n",
    "SELECT EmployeeID, Name, Department, Salary\n",
    "FROM Employees;"
   ]
  },
  {
   "cell_type": "code",
   "execution_count": 4,
   "id": "074d9a06-e8ec-450b-9f17-16431b395366",
   "metadata": {},
   "outputs": [
    {
     "data": {
      "text/plain": [
       "'\\nPrimary Key:\\n\\nUniquely identifies each record in a table.\\nMust be unique and cannot contain NULL values.\\n\\n\\nForeign Key:\\n\\nEstablishes a relationship between two tables.\\nLinks the foreign key column(s) in one table to the primary key column(s) in another table.\\nEnforces referential integrity and maintains consistency between related tables.\\n'"
      ]
     },
     "execution_count": 4,
     "metadata": {},
     "output_type": "execute_result"
    }
   ],
   "source": [
    "#Q5. Explain Primary Key and Foreign Key.\n",
    "\n",
    "\"\"\"\n",
    "Primary Key:\n",
    "\n",
    "Uniquely identifies each record in a table.\n",
    "Must be unique and cannot contain NULL values.\n",
    "\n",
    "\n",
    "Foreign Key:\n",
    "\n",
    "Establishes a relationship between two tables.\n",
    "Links the foreign key column(s) in one table to the primary key column(s) in another table.\n",
    "Enforces referential integrity and maintains consistency between related tables.\n",
    "\"\"\""
   ]
  },
  {
   "cell_type": "code",
   "execution_count": null,
   "id": "9de97cea-d233-46cd-bd29-bfd737897fd5",
   "metadata": {},
   "outputs": [],
   "source": [
    "#Q6. Write a python code to connect MySQL to python. Explain the cursor() and execute() method.\n",
    "\n",
    "import mysql.connector\n",
    "mydb = mysql.connector.connect(\n",
    "  host=\"localhost\",\n",
    "  user=\"abc\",\n",
    "  password=\"password\"\n",
    ")\n",
    "mycursor = mydb.cursor()\n",
    "mycursor.execute(\"select c1 ,c5 from test1.test_table\")\n",
    "for i in mycursor.fetchall():\n",
    "    print(i)"
   ]
  },
  {
   "cell_type": "code",
   "execution_count": null,
   "id": "b3c2afc0-ca79-4971-b62a-56f33da11e19",
   "metadata": {},
   "outputs": [],
   "source": [
    "#Q7. Give the order of execution of SQL clauses in an SQL query.\n",
    "\n",
    "1.FROM\n",
    "2.WHERE\n",
    "3.GROUP BY\n",
    "4.HAVING\n",
    "5.SELECT\n",
    "6.ORDER BY\n",
    "7.LIMIT / OFFSET"
   ]
  }
 ],
 "metadata": {
  "kernelspec": {
   "display_name": "Python 3 (ipykernel)",
   "language": "python",
   "name": "python3"
  },
  "language_info": {
   "codemirror_mode": {
    "name": "ipython",
    "version": 3
   },
   "file_extension": ".py",
   "mimetype": "text/x-python",
   "name": "python",
   "nbconvert_exporter": "python",
   "pygments_lexer": "ipython3",
   "version": "3.10.8"
  }
 },
 "nbformat": 4,
 "nbformat_minor": 5
}
